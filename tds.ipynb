{
 "cells": [
  {
   "cell_type": "code",
   "execution_count": 1,
   "metadata": {
    "collapsed": true,
    "ExecuteTime": {
     "end_time": "2023-07-26T16:48:00.070999407Z",
     "start_time": "2023-07-26T16:47:59.817417899Z"
    }
   },
   "outputs": [],
   "source": [
    "import transaction_data_simulator as tds"
   ]
  },
  {
   "cell_type": "code",
   "execution_count": 2,
   "outputs": [],
   "source": [
    "tds = tds.TransactionDataSimulator(5, 5)"
   ],
   "metadata": {
    "collapsed": false,
    "ExecuteTime": {
     "end_time": "2023-07-26T16:50:10.388432317Z",
     "start_time": "2023-07-26T16:50:10.337332127Z"
    }
   }
  },
  {
   "cell_type": "code",
   "execution_count": 3,
   "outputs": [
    {
     "data": {
      "text/plain": "   CUSTOMER_ID  x_customer_id  y_customer_id  mean_amount  std_amount  \\\n0            0      54.881350      71.518937    62.262521   31.131260   \n1            1      42.365480      64.589411    46.570785   23.285393   \n2            2      96.366276      38.344152    80.213879   40.106939   \n3            3      56.804456      92.559664    11.748426    5.874213   \n4            4       2.021840      83.261985    78.924891   39.462446   \n\n   mean_number_of_tx_per_day  \n0                   2.179533  \n1                   3.567092  \n2                   2.115580  \n3                   0.348517  \n4                   3.480049  ",
      "text/html": "<div>\n<style scoped>\n    .dataframe tbody tr th:only-of-type {\n        vertical-align: middle;\n    }\n\n    .dataframe tbody tr th {\n        vertical-align: top;\n    }\n\n    .dataframe thead th {\n        text-align: right;\n    }\n</style>\n<table border=\"1\" class=\"dataframe\">\n  <thead>\n    <tr style=\"text-align: right;\">\n      <th></th>\n      <th>CUSTOMER_ID</th>\n      <th>x_customer_id</th>\n      <th>y_customer_id</th>\n      <th>mean_amount</th>\n      <th>std_amount</th>\n      <th>mean_number_of_tx_per_day</th>\n    </tr>\n  </thead>\n  <tbody>\n    <tr>\n      <th>0</th>\n      <td>0</td>\n      <td>54.881350</td>\n      <td>71.518937</td>\n      <td>62.262521</td>\n      <td>31.131260</td>\n      <td>2.179533</td>\n    </tr>\n    <tr>\n      <th>1</th>\n      <td>1</td>\n      <td>42.365480</td>\n      <td>64.589411</td>\n      <td>46.570785</td>\n      <td>23.285393</td>\n      <td>3.567092</td>\n    </tr>\n    <tr>\n      <th>2</th>\n      <td>2</td>\n      <td>96.366276</td>\n      <td>38.344152</td>\n      <td>80.213879</td>\n      <td>40.106939</td>\n      <td>2.115580</td>\n    </tr>\n    <tr>\n      <th>3</th>\n      <td>3</td>\n      <td>56.804456</td>\n      <td>92.559664</td>\n      <td>11.748426</td>\n      <td>5.874213</td>\n      <td>0.348517</td>\n    </tr>\n    <tr>\n      <th>4</th>\n      <td>4</td>\n      <td>2.021840</td>\n      <td>83.261985</td>\n      <td>78.924891</td>\n      <td>39.462446</td>\n      <td>3.480049</td>\n    </tr>\n  </tbody>\n</table>\n</div>"
     },
     "execution_count": 3,
     "metadata": {},
     "output_type": "execute_result"
    }
   ],
   "source": [
    "tds.generate_customer_profiles_table()"
   ],
   "metadata": {
    "collapsed": false,
    "ExecuteTime": {
     "end_time": "2023-07-26T16:50:10.913218823Z",
     "start_time": "2023-07-26T16:50:10.890556571Z"
    }
   }
  },
  {
   "cell_type": "code",
   "execution_count": 4,
   "outputs": [
    {
     "data": {
      "text/plain": "   TERMINAL_ID  x_terminal_id  y_terminal_id\n0            0      54.881350      71.518937\n1            1      60.276338      54.488318\n2            2      42.365480      64.589411\n3            3      43.758721      89.177300\n4            4      96.366276      38.344152",
      "text/html": "<div>\n<style scoped>\n    .dataframe tbody tr th:only-of-type {\n        vertical-align: middle;\n    }\n\n    .dataframe tbody tr th {\n        vertical-align: top;\n    }\n\n    .dataframe thead th {\n        text-align: right;\n    }\n</style>\n<table border=\"1\" class=\"dataframe\">\n  <thead>\n    <tr style=\"text-align: right;\">\n      <th></th>\n      <th>TERMINAL_ID</th>\n      <th>x_terminal_id</th>\n      <th>y_terminal_id</th>\n    </tr>\n  </thead>\n  <tbody>\n    <tr>\n      <th>0</th>\n      <td>0</td>\n      <td>54.881350</td>\n      <td>71.518937</td>\n    </tr>\n    <tr>\n      <th>1</th>\n      <td>1</td>\n      <td>60.276338</td>\n      <td>54.488318</td>\n    </tr>\n    <tr>\n      <th>2</th>\n      <td>2</td>\n      <td>42.365480</td>\n      <td>64.589411</td>\n    </tr>\n    <tr>\n      <th>3</th>\n      <td>3</td>\n      <td>43.758721</td>\n      <td>89.177300</td>\n    </tr>\n    <tr>\n      <th>4</th>\n      <td>4</td>\n      <td>96.366276</td>\n      <td>38.344152</td>\n    </tr>\n  </tbody>\n</table>\n</div>"
     },
     "execution_count": 4,
     "metadata": {},
     "output_type": "execute_result"
    }
   ],
   "source": [
    "tds.generate_terminal_profiles_table()"
   ],
   "metadata": {
    "collapsed": false,
    "ExecuteTime": {
     "end_time": "2023-07-26T16:50:11.731679188Z",
     "start_time": "2023-07-26T16:50:11.701968018Z"
    }
   }
  },
  {
   "cell_type": "code",
   "execution_count": null,
   "outputs": [],
   "source": [],
   "metadata": {
    "collapsed": false
   }
  }
 ],
 "metadata": {
  "kernelspec": {
   "display_name": "Python 3",
   "language": "python",
   "name": "python3"
  },
  "language_info": {
   "codemirror_mode": {
    "name": "ipython",
    "version": 2
   },
   "file_extension": ".py",
   "mimetype": "text/x-python",
   "name": "python",
   "nbconvert_exporter": "python",
   "pygments_lexer": "ipython2",
   "version": "2.7.6"
  }
 },
 "nbformat": 4,
 "nbformat_minor": 0
}
